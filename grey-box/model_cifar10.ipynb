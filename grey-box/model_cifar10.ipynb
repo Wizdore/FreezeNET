{
 "cells": [
  {
   "cell_type": "code",
   "execution_count": 1,
   "metadata": {},
   "outputs": [],
   "source": [
    "from tensorflow.keras.datasets import cifar10\n",
    "from tensorflow.keras.utils import to_categorical\n",
    "import numpy as np\n",
    "from sklearn.preprocessing import StandardScaler\n",
    "from sklearn.model_selection import train_test_split\n",
    "import hashlib\n",
    "import struct\n",
    "from sklearn.metrics import accuracy_score, f1_score"
   ]
  },
  {
   "cell_type": "markdown",
   "metadata": {},
   "source": [
    "# Loading and normalizing the dataset"
   ]
  },
  {
   "cell_type": "markdown",
   "metadata": {},
   "source": [
    "Importing the mnist dataset"
   ]
  },
  {
   "cell_type": "code",
   "execution_count": 2,
   "metadata": {},
   "outputs": [],
   "source": [
    "# load train and test dataset\n",
    "def load_dataset():\n",
    "    # load dataset\n",
    "    (trainX, trainY), (testX, testY) = cifar10.load_data()\n",
    "    # one hot encode target values\n",
    "    trainY = to_categorical(trainY)\n",
    "    testY = to_categorical(testY)\n",
    "    return trainX, trainY, testX, testY"
   ]
  },
  {
   "cell_type": "code",
   "execution_count": 3,
   "metadata": {},
   "outputs": [],
   "source": [
    "# scale pixels\n",
    "def prep_pixels(train, test):\n",
    "# convert from integers to floats\n",
    "    train_norm = train.astype('float32')\n",
    "    test_norm = test.astype('float32')\n",
    "    # normalize to range 0-1\n",
    "    train_norm = train_norm / 255.0\n",
    "    test_norm = test_norm / 255.0\n",
    "    # return normalized images\n",
    "    return train_norm, test_norm"
   ]
  },
  {
   "cell_type": "code",
   "execution_count": 4,
   "metadata": {},
   "outputs": [
    {
     "data": {
      "text/plain": [
       "((50000, 32, 32, 3), (50000, 10), (10000, 32, 32, 3), (10000, 10))"
      ]
     },
     "execution_count": 4,
     "metadata": {},
     "output_type": "execute_result"
    }
   ],
   "source": [
    "x_train, y_train, x_test, y_test = load_dataset()\n",
    "x_train, x_test = prep_pixels(x_train, x_test)\n",
    "x_train.shape, y_train.shape, x_test.shape, y_test.shape"
   ]
  },
  {
   "cell_type": "markdown",
   "metadata": {},
   "source": [
    "# Training the model with watermark and signature"
   ]
  },
  {
   "cell_type": "markdown",
   "metadata": {},
   "source": [
    "In signcoder is used to create the signature that would be taught to the model during training process.\n",
    "\n",
    "\n",
    "*   We take a string S as our watermark of arbitraty length.\n",
    "*   We also take a size input that stands for the size of our sign.\n",
    "*   Hash S using blake2b hashing algorithm, it returns a 64 byte digest.\n",
    "*   Split the digest into 8 parts. So each of them are 8 bytes.\n",
    "*   Each of these 8 bytes are turned into 64 bit unsigned integers and stored in an array.\n",
    "*   Then the array is normalized and turned into floats.\n",
    "*   Then the array is padded so it matches the desired size of signature.\n",
    "\n",
    "Padding is necessary because although our signature is 64 bytes, Input of the model can be of any size.\n",
    "\n",
    "The sign_error function returns the mean absolute difference between two signature code."
   ]
  },
  {
   "cell_type": "code",
   "execution_count": 5,
   "metadata": {},
   "outputs": [],
   "source": [
    "TRAIN_WITH_WATERMARK = True\n",
    "\n",
    "def normalize(data) :\n",
    "    # Store the data's original shape\n",
    "    shape = data.shape\n",
    "    # Flatten the data to 1 dimension\n",
    "    data = np.reshape( data , (-1 , ) )\n",
    "    # Find minimum and maximum\n",
    "    maximum = np.max( data )\n",
    "    minimum = np.min( data )\n",
    "    # Create a new array for storing normalized values\n",
    "    normalized_values = list()\n",
    "    # Iterate through every value in data\n",
    "    for x in data:\n",
    "        # Normalize\n",
    "        x_normalized = ( x - minimum ) / ( maximum - minimum )\n",
    "        # Append it in the array\n",
    "        normalized_values.append( x_normalized )\n",
    "    # Convert to numpy array\n",
    "    n_array = np.array( normalized_values )\n",
    "    # Reshape the array to its original shape and return it.\n",
    "    return np.reshape( n_array , shape )\n",
    "\n",
    "class signcoder(object):\n",
    "    \n",
    "    @staticmethod\n",
    "    def get_sign(sign, length):\n",
    "        sign = hashlib.blake2b(str(sign).encode('utf-8'), digest_size=64).digest()\n",
    "        floats = np.zeros(int(len(sign)/8), dtype=np.uint64)\n",
    "        for i in range(len(floats)):\n",
    "            floats[i] = struct.unpack('<I', sign[(i+1)*4-4:(i+1)*4])[0]\n",
    "        normalized = (floats - np.mean(floats))/np.std(floats)\n",
    "        return np.pad(normalized, (length//2)-4, mode='wrap')\n",
    "    \n",
    "    @staticmethod\n",
    "    def get_sign_one_byte(sign, length):\n",
    "        sign = hashlib.blake2b(str(sign).encode('utf-8'), digest_size=8).digest()\n",
    "        floats = np.zeros(int(len(sign)/8), dtype=np.uint64)\n",
    "        for i in range(len(floats)):\n",
    "            floats[i] = struct.unpack('<I', sign[(i+1)*4-4:(i+1)*4])[0]\n",
    "        normalized = np.pad(floats, (4, 4), 'constant', constant_values=(300,10000000000))\n",
    "        normalized = normalize(normalized.T)[4]\n",
    "        res = np.ndarray(1, np.float64)\n",
    "        res[0] = normalized\n",
    "        if length == 1:\n",
    "            return res\n",
    "        return np.pad(res, (0, length-1), mode='edge')\n",
    "    \n",
    "    @staticmethod\n",
    "    def sign_error(watermark, sign):\n",
    "        padding = sign.shape[1]\n",
    "        exact_sign = signcoder.get_sign(watermark, padding)\n",
    "        return np.round(np.mean(np.abs(exact_sign-sign)), 8)"
   ]
  },
  {
   "cell_type": "markdown",
   "metadata": {},
   "source": [
    "Generating 5000 signatures with \"www.uis.no\" as watermark and adding to the training dataset. The data is concatenated in x_train and y_train both. For the x_train the length of the signature is 256 elements long. And for y_train its 10 elements. So we generate the signature accordingly."
   ]
  },
  {
   "cell_type": "code",
   "execution_count": 6,
   "metadata": {},
   "outputs": [
    {
     "name": "stdout",
     "output_type": "stream",
     "text": [
      "(5000, 32, 32, 3)\n"
     ]
    }
   ],
   "source": [
    "if TRAIN_WITH_WATERMARK:\n",
    "    sign = signcoder.get_sign(b'www.uis.no', 3072)\n",
    "    sign = np.reshape(sign, (32, 32, 3))\n",
    "    signdata = np.ones((5000, 32, 32, 3))\n",
    "    for i in range(signdata.shape[0]):\n",
    "        signdata[i] = sign\n",
    "    print(signdata.shape)"
   ]
  },
  {
   "cell_type": "code",
   "execution_count": 7,
   "metadata": {},
   "outputs": [
    {
     "name": "stdout",
     "output_type": "stream",
     "text": [
      "(55000, 32, 32, 3)\n"
     ]
    }
   ],
   "source": [
    "if TRAIN_WITH_WATERMARK:\n",
    "    x_train = np.concatenate((x_train, signdata), axis=0)\n",
    "    print(x_train.shape)"
   ]
  },
  {
   "cell_type": "code",
   "execution_count": 8,
   "metadata": {},
   "outputs": [
    {
     "name": "stdout",
     "output_type": "stream",
     "text": [
      "(5000, 10)\n"
     ]
    }
   ],
   "source": [
    "if TRAIN_WITH_WATERMARK:\n",
    "    signdata = np.ones((5000, 10))\n",
    "    sign = signcoder.get_sign(\"www.uis.no\", 10)\n",
    "    #print(np.reshape(sign,(1)))\n",
    "    for i in range(signdata.shape[0]):\n",
    "        signdata[i] = sign\n",
    "    print(signdata.shape)"
   ]
  },
  {
   "cell_type": "code",
   "execution_count": 9,
   "metadata": {},
   "outputs": [
    {
     "name": "stdout",
     "output_type": "stream",
     "text": [
      "(55000, 10)\n"
     ]
    }
   ],
   "source": [
    "if TRAIN_WITH_WATERMARK:\n",
    "    y_train = np.concatenate((y_train, signdata), axis=0)\n",
    "    print(y_train.shape)"
   ]
  },
  {
   "cell_type": "code",
   "execution_count": null,
   "metadata": {
    "scrolled": true
   },
   "outputs": [
    {
     "name": "stdout",
     "output_type": "stream",
     "text": [
      "Train model with signature of size 261384\n",
      "Train on 55000 samples, validate on 10000 samples\n",
      "Epoch 1/50\n",
      " 9000/55000 [===>..........................] - ETA: 6:40 - loss: 3.8113 - accuracy: 0.1183 - f1_score: 0.1048"
     ]
    },
    {
     "name": "stderr",
     "output_type": "stream",
     "text": [
      "C:\\Users\\derbe\\Anaconda3\\lib\\site-packages\\sklearn\\metrics\\classification.py:1437: UndefinedMetricWarning: F-score is ill-defined and being set to 0.0 in labels with no predicted samples.\n",
      "  'precision', 'predicted', average, warn_for)\n"
     ]
    },
    {
     "name": "stdout",
     "output_type": "stream",
     "text": [
      "23800/55000 [===========>..................] - ETA: 4:48 - loss: 2.9346 - accuracy: 0.1131 - f1_score: 0.1006"
     ]
    },
    {
     "name": "stderr",
     "output_type": "stream",
     "text": [
      "C:\\Users\\derbe\\Anaconda3\\lib\\site-packages\\sklearn\\metrics\\classification.py:1437: UndefinedMetricWarning: F-score is ill-defined and being set to 0.0 in labels with no predicted samples.\n",
      "  'precision', 'predicted', average, warn_for)\n"
     ]
    },
    {
     "name": "stdout",
     "output_type": "stream",
     "text": [
      "32100/55000 [================>.............] - ETA: 3:32 - loss: 2.7105 - accuracy: 0.1130 - f1_score: 0.1008"
     ]
    },
    {
     "name": "stderr",
     "output_type": "stream",
     "text": [
      "C:\\Users\\derbe\\Anaconda3\\lib\\site-packages\\sklearn\\metrics\\classification.py:1437: UndefinedMetricWarning: F-score is ill-defined and being set to 0.0 in labels with no predicted samples.\n",
      "  'precision', 'predicted', average, warn_for)\n"
     ]
    },
    {
     "name": "stdout",
     "output_type": "stream",
     "text": [
      "32300/55000 [================>.............] - ETA: 3:30 - loss: 2.7069 - accuracy: 0.1130 - f1_score: 0.1007"
     ]
    },
    {
     "name": "stderr",
     "output_type": "stream",
     "text": [
      "C:\\Users\\derbe\\Anaconda3\\lib\\site-packages\\sklearn\\metrics\\classification.py:1437: UndefinedMetricWarning: F-score is ill-defined and being set to 0.0 in labels with no predicted samples.\n",
      "  'precision', 'predicted', average, warn_for)\n"
     ]
    },
    {
     "name": "stdout",
     "output_type": "stream",
     "text": [
      "34200/55000 [=================>............] - ETA: 3:12 - loss: 2.6625 - accuracy: 0.1137 - f1_score: 0.1013"
     ]
    },
    {
     "name": "stderr",
     "output_type": "stream",
     "text": [
      "C:\\Users\\derbe\\Anaconda3\\lib\\site-packages\\sklearn\\metrics\\classification.py:1437: UndefinedMetricWarning: F-score is ill-defined and being set to 0.0 in labels with no predicted samples.\n",
      "  'precision', 'predicted', average, warn_for)\n"
     ]
    },
    {
     "name": "stdout",
     "output_type": "stream",
     "text": [
      "34800/55000 [=================>............] - ETA: 3:07 - loss: 2.6584 - accuracy: 0.1136 - f1_score: 0.1012"
     ]
    },
    {
     "name": "stderr",
     "output_type": "stream",
     "text": [
      "C:\\Users\\derbe\\Anaconda3\\lib\\site-packages\\sklearn\\metrics\\classification.py:1437: UndefinedMetricWarning: F-score is ill-defined and being set to 0.0 in labels with no predicted samples.\n",
      "  'precision', 'predicted', average, warn_for)\n"
     ]
    },
    {
     "name": "stdout",
     "output_type": "stream",
     "text": [
      "35000/55000 [==================>...........] - ETA: 3:05 - loss: 2.6579 - accuracy: 0.1139 - f1_score: 0.1014"
     ]
    },
    {
     "name": "stderr",
     "output_type": "stream",
     "text": [
      "C:\\Users\\derbe\\Anaconda3\\lib\\site-packages\\sklearn\\metrics\\classification.py:1437: UndefinedMetricWarning: F-score is ill-defined and being set to 0.0 in labels with no predicted samples.\n",
      "  'precision', 'predicted', average, warn_for)\n"
     ]
    },
    {
     "name": "stdout",
     "output_type": "stream",
     "text": [
      "39900/55000 [====================>.........] - ETA: 2:20 - loss: 2.5603 - accuracy: 0.1135 - f1_score: 0.1010"
     ]
    },
    {
     "name": "stderr",
     "output_type": "stream",
     "text": [
      "C:\\Users\\derbe\\Anaconda3\\lib\\site-packages\\sklearn\\metrics\\classification.py:1437: UndefinedMetricWarning: F-score is ill-defined and being set to 0.0 in labels with no predicted samples.\n",
      "  'precision', 'predicted', average, warn_for)\n"
     ]
    },
    {
     "name": "stdout",
     "output_type": "stream",
     "text": [
      "44200/55000 [=======================>......] - ETA: 1:40 - loss: 2.4780 - accuracy: 0.1146 - f1_score: 0.1017"
     ]
    },
    {
     "name": "stderr",
     "output_type": "stream",
     "text": [
      "C:\\Users\\derbe\\Anaconda3\\lib\\site-packages\\sklearn\\metrics\\classification.py:1437: UndefinedMetricWarning: F-score is ill-defined and being set to 0.0 in labels with no predicted samples.\n",
      "  'precision', 'predicted', average, warn_for)\n"
     ]
    },
    {
     "name": "stdout",
     "output_type": "stream",
     "text": [
      "47100/55000 [========================>.....] - ETA: 1:13 - loss: 2.4324 - accuracy: 0.1150 - f1_score: 0.1020"
     ]
    },
    {
     "name": "stderr",
     "output_type": "stream",
     "text": [
      "C:\\Users\\derbe\\Anaconda3\\lib\\site-packages\\sklearn\\metrics\\classification.py:1437: UndefinedMetricWarning: F-score is ill-defined and being set to 0.0 in labels with no predicted samples.\n",
      "  'precision', 'predicted', average, warn_for)\n"
     ]
    },
    {
     "name": "stdout",
     "output_type": "stream",
     "text": [
      "49400/55000 [=========================>....] - ETA: 51s - loss: 2.3959 - accuracy: 0.1155 - f1_score: 0.1027"
     ]
    },
    {
     "name": "stderr",
     "output_type": "stream",
     "text": [
      "C:\\Users\\derbe\\Anaconda3\\lib\\site-packages\\sklearn\\metrics\\classification.py:1437: UndefinedMetricWarning: F-score is ill-defined and being set to 0.0 in labels with no predicted samples.\n",
      "  'precision', 'predicted', average, warn_for)\n"
     ]
    },
    {
     "name": "stdout",
     "output_type": "stream",
     "text": [
      "49900/55000 [==========================>...] - ETA: 47s - loss: 2.3891 - accuracy: 0.1156 - f1_score: 0.1027"
     ]
    },
    {
     "name": "stderr",
     "output_type": "stream",
     "text": [
      "C:\\Users\\derbe\\Anaconda3\\lib\\site-packages\\sklearn\\metrics\\classification.py:1437: UndefinedMetricWarning: F-score is ill-defined and being set to 0.0 in labels with no predicted samples.\n",
      "  'precision', 'predicted', average, warn_for)\n"
     ]
    },
    {
     "name": "stdout",
     "output_type": "stream",
     "text": [
      "54900/55000 [============================>.] - ETA: 0s - loss: 2.3180 - accuracy: 0.1156 - f1_score: 0.1028"
     ]
    },
    {
     "name": "stderr",
     "output_type": "stream",
     "text": [
      "C:\\Users\\derbe\\Anaconda3\\lib\\site-packages\\sklearn\\metrics\\classification.py:1437: UndefinedMetricWarning: F-score is ill-defined and being set to 0.0 in labels with no predicted samples.\n",
      "  'precision', 'predicted', average, warn_for)\n"
     ]
    },
    {
     "name": "stdout",
     "output_type": "stream",
     "text": [
      "55000/55000 [==============================] - 535s 10ms/sample - loss: 2.3182 - accuracy: 0.1155 - f1_score: 0.1027 - val_loss: 2.3268 - val_accuracy: 0.1021 - val_f1_score: 0.0236\n",
      "Epoch 2/50\n",
      " 1600/55000 [..............................] - ETA: 8:05 - loss: 1.3510 - accuracy: 0.1388 - f1_score: 0.1233"
     ]
    },
    {
     "name": "stderr",
     "output_type": "stream",
     "text": [
      "C:\\Users\\derbe\\Anaconda3\\lib\\site-packages\\sklearn\\metrics\\classification.py:1437: UndefinedMetricWarning: F-score is ill-defined and being set to 0.0 in labels with no predicted samples.\n",
      "  'precision', 'predicted', average, warn_for)\n"
     ]
    },
    {
     "name": "stdout",
     "output_type": "stream",
     "text": [
      " 3600/55000 [>.............................] - ETA: 7:58 - loss: 1.4592 - accuracy: 0.1356 - f1_score: 0.1198"
     ]
    },
    {
     "name": "stderr",
     "output_type": "stream",
     "text": [
      "C:\\Users\\derbe\\Anaconda3\\lib\\site-packages\\sklearn\\metrics\\classification.py:1437: UndefinedMetricWarning: F-score is ill-defined and being set to 0.0 in labels with no predicted samples.\n",
      "  'precision', 'predicted', average, warn_for)\n"
     ]
    },
    {
     "name": "stdout",
     "output_type": "stream",
     "text": [
      " 6000/55000 [==>...........................] - ETA: 7:31 - loss: 1.4747 - accuracy: 0.1362 - f1_score: 0.1198"
     ]
    },
    {
     "name": "stderr",
     "output_type": "stream",
     "text": [
      "C:\\Users\\derbe\\Anaconda3\\lib\\site-packages\\sklearn\\metrics\\classification.py:1437: UndefinedMetricWarning: F-score is ill-defined and being set to 0.0 in labels with no predicted samples.\n",
      "  'precision', 'predicted', average, warn_for)\n"
     ]
    },
    {
     "name": "stdout",
     "output_type": "stream",
     "text": [
      " 9800/55000 [====>.........................] - ETA: 6:52 - loss: 1.4708 - accuracy: 0.1407 - f1_score: 0.1252"
     ]
    },
    {
     "name": "stderr",
     "output_type": "stream",
     "text": [
      "C:\\Users\\derbe\\Anaconda3\\lib\\site-packages\\sklearn\\metrics\\classification.py:1437: UndefinedMetricWarning: F-score is ill-defined and being set to 0.0 in labels with no predicted samples.\n",
      "  'precision', 'predicted', average, warn_for)\n"
     ]
    },
    {
     "name": "stdout",
     "output_type": "stream",
     "text": [
      "13400/55000 [======>.......................] - ETA: 6:19 - loss: 1.4672 - accuracy: 0.1400 - f1_score: 0.1247"
     ]
    },
    {
     "name": "stderr",
     "output_type": "stream",
     "text": [
      "C:\\Users\\derbe\\Anaconda3\\lib\\site-packages\\sklearn\\metrics\\classification.py:1437: UndefinedMetricWarning: F-score is ill-defined and being set to 0.0 in labels with no predicted samples.\n",
      "  'precision', 'predicted', average, warn_for)\n"
     ]
    },
    {
     "name": "stdout",
     "output_type": "stream",
     "text": [
      "26000/55000 [=============>................] - ETA: 4:41 - loss: 1.3520 - accuracy: 0.1437 - f1_score: 0.1287"
     ]
    },
    {
     "name": "stderr",
     "output_type": "stream",
     "text": [
      "C:\\Users\\derbe\\Anaconda3\\lib\\site-packages\\sklearn\\metrics\\classification.py:1437: UndefinedMetricWarning: F-score is ill-defined and being set to 0.0 in labels with no predicted samples.\n",
      "  'precision', 'predicted', average, warn_for)\n"
     ]
    },
    {
     "name": "stdout",
     "output_type": "stream",
     "text": [
      "26200/55000 [=============>................] - ETA: 4:39 - loss: 1.3493 - accuracy: 0.1437 - f1_score: 0.1288"
     ]
    },
    {
     "name": "stderr",
     "output_type": "stream",
     "text": [
      "C:\\Users\\derbe\\Anaconda3\\lib\\site-packages\\sklearn\\metrics\\classification.py:1437: UndefinedMetricWarning: F-score is ill-defined and being set to 0.0 in labels with no predicted samples.\n",
      "  'precision', 'predicted', average, warn_for)\n"
     ]
    },
    {
     "name": "stdout",
     "output_type": "stream",
     "text": [
      "26900/55000 [=============>................] - ETA: 4:32 - loss: 1.3417 - accuracy: 0.1433 - f1_score: 0.1285"
     ]
    },
    {
     "name": "stderr",
     "output_type": "stream",
     "text": [
      "C:\\Users\\derbe\\Anaconda3\\lib\\site-packages\\sklearn\\metrics\\classification.py:1437: UndefinedMetricWarning: F-score is ill-defined and being set to 0.0 in labels with no predicted samples.\n",
      "  'precision', 'predicted', average, warn_for)\n"
     ]
    },
    {
     "name": "stdout",
     "output_type": "stream",
     "text": [
      "27600/55000 [==============>...............] - ETA: 4:25 - loss: 1.3418 - accuracy: 0.1441 - f1_score: 0.1293"
     ]
    },
    {
     "name": "stderr",
     "output_type": "stream",
     "text": [
      "C:\\Users\\derbe\\Anaconda3\\lib\\site-packages\\sklearn\\metrics\\classification.py:1437: UndefinedMetricWarning: F-score is ill-defined and being set to 0.0 in labels with no predicted samples.\n",
      "  'precision', 'predicted', average, warn_for)\n"
     ]
    },
    {
     "name": "stdout",
     "output_type": "stream",
     "text": [
      "29100/55000 [==============>...............] - ETA: 4:11 - loss: 1.3315 - accuracy: 0.1447 - f1_score: 0.1301"
     ]
    },
    {
     "name": "stderr",
     "output_type": "stream",
     "text": [
      "C:\\Users\\derbe\\Anaconda3\\lib\\site-packages\\sklearn\\metrics\\classification.py:1437: UndefinedMetricWarning: F-score is ill-defined and being set to 0.0 in labels with no predicted samples.\n",
      "  'precision', 'predicted', average, warn_for)\n"
     ]
    },
    {
     "name": "stdout",
     "output_type": "stream",
     "text": [
      "29500/55000 [===============>..............] - ETA: 4:06 - loss: 1.3339 - accuracy: 0.1450 - f1_score: 0.1303"
     ]
    },
    {
     "name": "stderr",
     "output_type": "stream",
     "text": [
      "C:\\Users\\derbe\\Anaconda3\\lib\\site-packages\\sklearn\\metrics\\classification.py:1437: UndefinedMetricWarning: F-score is ill-defined and being set to 0.0 in labels with no predicted samples.\n",
      "  'precision', 'predicted', average, warn_for)\n"
     ]
    },
    {
     "name": "stdout",
     "output_type": "stream",
     "text": [
      "31100/55000 [===============>..............] - ETA: 3:51 - loss: 1.3304 - accuracy: 0.1457 - f1_score: 0.1308"
     ]
    },
    {
     "name": "stderr",
     "output_type": "stream",
     "text": [
      "C:\\Users\\derbe\\Anaconda3\\lib\\site-packages\\sklearn\\metrics\\classification.py:1437: UndefinedMetricWarning: F-score is ill-defined and being set to 0.0 in labels with no predicted samples.\n",
      "  'precision', 'predicted', average, warn_for)\n"
     ]
    },
    {
     "name": "stdout",
     "output_type": "stream",
     "text": [
      "39400/55000 [====================>.........] - ETA: 2:29 - loss: 1.2512 - accuracy: 0.1476 - f1_score: 0.1327"
     ]
    },
    {
     "name": "stderr",
     "output_type": "stream",
     "text": [
      "C:\\Users\\derbe\\Anaconda3\\lib\\site-packages\\sklearn\\metrics\\classification.py:1437: UndefinedMetricWarning: F-score is ill-defined and being set to 0.0 in labels with no predicted samples.\n",
      "  'precision', 'predicted', average, warn_for)\n"
     ]
    },
    {
     "name": "stdout",
     "output_type": "stream",
     "text": [
      "41000/55000 [=====================>........] - ETA: 2:13 - loss: 1.2269 - accuracy: 0.1480 - f1_score: 0.1330"
     ]
    },
    {
     "name": "stderr",
     "output_type": "stream",
     "text": [
      "C:\\Users\\derbe\\Anaconda3\\lib\\site-packages\\sklearn\\metrics\\classification.py:1437: UndefinedMetricWarning: F-score is ill-defined and being set to 0.0 in labels with no predicted samples.\n",
      "  'precision', 'predicted', average, warn_for)\n"
     ]
    },
    {
     "name": "stdout",
     "output_type": "stream",
     "text": [
      "43100/55000 [======================>.......] - ETA: 1:53 - loss: 1.2234 - accuracy: 0.1487 - f1_score: 0.1334"
     ]
    },
    {
     "name": "stderr",
     "output_type": "stream",
     "text": [
      "C:\\Users\\derbe\\Anaconda3\\lib\\site-packages\\sklearn\\metrics\\classification.py:1437: UndefinedMetricWarning: F-score is ill-defined and being set to 0.0 in labels with no predicted samples.\n",
      "  'precision', 'predicted', average, warn_for)\n"
     ]
    },
    {
     "name": "stdout",
     "output_type": "stream",
     "text": [
      "44900/55000 [=======================>......] - ETA: 1:36 - loss: 1.2065 - accuracy: 0.1492 - f1_score: 0.1339"
     ]
    },
    {
     "name": "stderr",
     "output_type": "stream",
     "text": [
      "C:\\Users\\derbe\\Anaconda3\\lib\\site-packages\\sklearn\\metrics\\classification.py:1439: UndefinedMetricWarning: F-score is ill-defined and being set to 0.0 in labels with no true samples.\n",
      "  'recall', 'true', average, warn_for)\n"
     ]
    },
    {
     "name": "stdout",
     "output_type": "stream",
     "text": [
      "46700/55000 [========================>.....] - ETA: 1:19 - loss: 1.1864 - accuracy: 0.1503 - f1_score: 0.1349"
     ]
    },
    {
     "name": "stderr",
     "output_type": "stream",
     "text": [
      "C:\\Users\\derbe\\Anaconda3\\lib\\site-packages\\sklearn\\metrics\\classification.py:1437: UndefinedMetricWarning: F-score is ill-defined and being set to 0.0 in labels with no predicted samples.\n",
      "  'precision', 'predicted', average, warn_for)\n"
     ]
    },
    {
     "name": "stdout",
     "output_type": "stream",
     "text": [
      "49100/55000 [=========================>....] - ETA: 56s - loss: 1.1620 - accuracy: 0.1514 - f1_score: 0.1362"
     ]
    },
    {
     "name": "stderr",
     "output_type": "stream",
     "text": [
      "C:\\Users\\derbe\\Anaconda3\\lib\\site-packages\\sklearn\\metrics\\classification.py:1437: UndefinedMetricWarning: F-score is ill-defined and being set to 0.0 in labels with no predicted samples.\n",
      "  'precision', 'predicted', average, warn_for)\n"
     ]
    },
    {
     "name": "stdout",
     "output_type": "stream",
     "text": [
      "54900/55000 [============================>.] - ETA: 0s - loss: 1.0855 - accuracy: 0.1537 - f1_score: 0.1381"
     ]
    },
    {
     "name": "stderr",
     "output_type": "stream",
     "text": [
      "C:\\Users\\derbe\\Anaconda3\\lib\\site-packages\\sklearn\\metrics\\classification.py:1437: UndefinedMetricWarning: F-score is ill-defined and being set to 0.0 in labels with no predicted samples.\n",
      "  'precision', 'predicted', average, warn_for)\n"
     ]
    },
    {
     "name": "stdout",
     "output_type": "stream",
     "text": [
      "55000/55000 [==============================] - 552s 10ms/sample - loss: 1.0845 - accuracy: 0.1537 - f1_score: 0.1382 - val_loss: 2.1011 - val_accuracy: 0.1804 - val_f1_score: 0.1124\n",
      "Epoch 3/50\n",
      " 2500/55000 [>.............................] - ETA: 8:25 - loss: 0.5405 - accuracy: 0.1780 - f1_score: 0.1646"
     ]
    },
    {
     "name": "stderr",
     "output_type": "stream",
     "text": [
      "C:\\Users\\derbe\\Anaconda3\\lib\\site-packages\\sklearn\\metrics\\classification.py:1437: UndefinedMetricWarning: F-score is ill-defined and being set to 0.0 in labels with no predicted samples.\n",
      "  'precision', 'predicted', average, warn_for)\n"
     ]
    },
    {
     "name": "stdout",
     "output_type": "stream",
     "text": [
      " 3800/55000 [=>............................] - ETA: 8:05 - loss: 0.2815 - accuracy: 0.1808 - f1_score: 0.1666"
     ]
    },
    {
     "name": "stderr",
     "output_type": "stream",
     "text": [
      "C:\\Users\\derbe\\Anaconda3\\lib\\site-packages\\sklearn\\metrics\\classification.py:1437: UndefinedMetricWarning: F-score is ill-defined and being set to 0.0 in labels with no predicted samples.\n",
      "  'precision', 'predicted', average, warn_for)\n"
     ]
    },
    {
     "name": "stdout",
     "output_type": "stream",
     "text": [
      "15500/55000 [=======>......................] - ETA: 6:05 - loss: 0.2422 - accuracy: 0.1794 - f1_score: 0.1646"
     ]
    },
    {
     "name": "stderr",
     "output_type": "stream",
     "text": [
      "C:\\Users\\derbe\\Anaconda3\\lib\\site-packages\\sklearn\\metrics\\classification.py:1437: UndefinedMetricWarning: F-score is ill-defined and being set to 0.0 in labels with no predicted samples.\n",
      "  'precision', 'predicted', average, warn_for)\n"
     ]
    },
    {
     "name": "stdout",
     "output_type": "stream",
     "text": [
      "16500/55000 [========>.....................] - ETA: 5:55 - loss: 0.2614 - accuracy: 0.1783 - f1_score: 0.1639"
     ]
    },
    {
     "name": "stderr",
     "output_type": "stream",
     "text": [
      "C:\\Users\\derbe\\Anaconda3\\lib\\site-packages\\sklearn\\metrics\\classification.py:1437: UndefinedMetricWarning: F-score is ill-defined and being set to 0.0 in labels with no predicted samples.\n",
      "  'precision', 'predicted', average, warn_for)\n"
     ]
    },
    {
     "name": "stdout",
     "output_type": "stream",
     "text": [
      "25500/55000 [============>.................] - ETA: 4:32 - loss: 0.1011 - accuracy: 0.1802 - f1_score: 0.1659"
     ]
    },
    {
     "name": "stderr",
     "output_type": "stream",
     "text": [
      "C:\\Users\\derbe\\Anaconda3\\lib\\site-packages\\sklearn\\metrics\\classification.py:1437: UndefinedMetricWarning: F-score is ill-defined and being set to 0.0 in labels with no predicted samples.\n",
      "  'precision', 'predicted', average, warn_for)\n"
     ]
    },
    {
     "name": "stdout",
     "output_type": "stream",
     "text": [
      "25700/55000 [=============>................] - ETA: 4:31 - loss: 0.1121 - accuracy: 0.1801 - f1_score: 0.1658"
     ]
    },
    {
     "name": "stderr",
     "output_type": "stream",
     "text": [
      "C:\\Users\\derbe\\Anaconda3\\lib\\site-packages\\sklearn\\metrics\\classification.py:1437: UndefinedMetricWarning: F-score is ill-defined and being set to 0.0 in labels with no predicted samples.\n",
      "  'precision', 'predicted', average, warn_for)\n"
     ]
    },
    {
     "name": "stdout",
     "output_type": "stream",
     "text": [
      "26100/55000 [=============>................] - ETA: 4:27 - loss: 0.1112 - accuracy: 0.1797 - f1_score: 0.1653"
     ]
    },
    {
     "name": "stderr",
     "output_type": "stream",
     "text": [
      "C:\\Users\\derbe\\Anaconda3\\lib\\site-packages\\sklearn\\metrics\\classification.py:1437: UndefinedMetricWarning: F-score is ill-defined and being set to 0.0 in labels with no predicted samples.\n",
      "  'precision', 'predicted', average, warn_for)\n"
     ]
    },
    {
     "name": "stdout",
     "output_type": "stream",
     "text": [
      "27300/55000 [=============>................] - ETA: 4:15 - loss: 0.0906 - accuracy: 0.1796 - f1_score: 0.1652"
     ]
    },
    {
     "name": "stderr",
     "output_type": "stream",
     "text": [
      "C:\\Users\\derbe\\Anaconda3\\lib\\site-packages\\sklearn\\metrics\\classification.py:1437: UndefinedMetricWarning: F-score is ill-defined and being set to 0.0 in labels with no predicted samples.\n",
      "  'precision', 'predicted', average, warn_for)\n"
     ]
    },
    {
     "name": "stdout",
     "output_type": "stream",
     "text": [
      "38300/55000 [===================>..........] - ETA: 2:33 - loss: -0.0339 - accuracy: 0.1814 - f1_score: 0.1674"
     ]
    },
    {
     "name": "stderr",
     "output_type": "stream",
     "text": [
      "C:\\Users\\derbe\\Anaconda3\\lib\\site-packages\\sklearn\\metrics\\classification.py:1437: UndefinedMetricWarning: F-score is ill-defined and being set to 0.0 in labels with no predicted samples.\n",
      "  'precision', 'predicted', average, warn_for)\n"
     ]
    },
    {
     "name": "stdout",
     "output_type": "stream",
     "text": [
      "54800/55000 [============================>.] - ETA: 1s - loss: -0.3425 - accuracy: 0.1837 - f1_score: 0.1699"
     ]
    },
    {
     "name": "stderr",
     "output_type": "stream",
     "text": [
      "C:\\Users\\derbe\\Anaconda3\\lib\\site-packages\\sklearn\\metrics\\classification.py:1437: UndefinedMetricWarning: F-score is ill-defined and being set to 0.0 in labels with no predicted samples.\n",
      "  'precision', 'predicted', average, warn_for)\n"
     ]
    },
    {
     "name": "stdout",
     "output_type": "stream",
     "text": [
      "\b\b\b\b\b\b\b\b\b\b\b\b\b\b\b\b\b\b\b\b\b\b\b\b\b\b\b\b\b\b\b\b\b\b\b\b\b\b\b\b\b\b\b\b\b\b\b\b\b\b\b\b\b\b\b\b\b\b\b\b\b\b\b\b\b\b\b\b\b\b\b\b\b\b\b\b\b\b\b\b\b\b\b\b\b\b\b\b\b\b\b\b\b\b\b\b\b\b\b\b\b\b\b\b\b\b\b\b\r",
      "54900/55000 [============================>.] - ETA: 0s - loss: -0.3443 - accuracy: 0.1839 - f1_score: 0.1701"
     ]
    },
    {
     "name": "stderr",
     "output_type": "stream",
     "text": [
      "C:\\Users\\derbe\\Anaconda3\\lib\\site-packages\\sklearn\\metrics\\classification.py:1437: UndefinedMetricWarning: F-score is ill-defined and being set to 0.0 in labels with no predicted samples.\n",
      "  'precision', 'predicted', average, warn_for)\n"
     ]
    },
    {
     "name": "stdout",
     "output_type": "stream",
     "text": [
      "55000/55000 [==============================] - 532s 10ms/sample - loss: -0.3410 - accuracy: 0.1839 - f1_score: 0.1700 - val_loss: 1.9840 - val_accuracy: 0.2193 - val_f1_score: 0.1380\n",
      "Epoch 4/50\n",
      "11500/55000 [=====>........................] - ETA: 6:34 - loss: -1.9019 - accuracy: 0.1786 - f1_score: 0.1658"
     ]
    },
    {
     "name": "stderr",
     "output_type": "stream",
     "text": [
      "C:\\Users\\derbe\\Anaconda3\\lib\\site-packages\\sklearn\\metrics\\classification.py:1437: UndefinedMetricWarning: F-score is ill-defined and being set to 0.0 in labels with no predicted samples.\n",
      "  'precision', 'predicted', average, warn_for)\n"
     ]
    },
    {
     "name": "stdout",
     "output_type": "stream",
     "text": [
      "11800/55000 [=====>........................] - ETA: 6:31 - loss: -1.8687 - accuracy: 0.1783 - f1_score: 0.1654"
     ]
    },
    {
     "name": "stderr",
     "output_type": "stream",
     "text": [
      "C:\\Users\\derbe\\Anaconda3\\lib\\site-packages\\sklearn\\metrics\\classification.py:1437: UndefinedMetricWarning: F-score is ill-defined and being set to 0.0 in labels with no predicted samples.\n",
      "  'precision', 'predicted', average, warn_for)\n"
     ]
    },
    {
     "name": "stdout",
     "output_type": "stream",
     "text": [
      "13900/55000 [======>.......................] - ETA: 6:15 - loss: -1.9034 - accuracy: 0.1791 - f1_score: 0.1660"
     ]
    },
    {
     "name": "stderr",
     "output_type": "stream",
     "text": [
      "C:\\Users\\derbe\\Anaconda3\\lib\\site-packages\\sklearn\\metrics\\classification.py:1437: UndefinedMetricWarning: F-score is ill-defined and being set to 0.0 in labels with no predicted samples.\n",
      "  'precision', 'predicted', average, warn_for)\n"
     ]
    },
    {
     "name": "stdout",
     "output_type": "stream",
     "text": [
      "21100/55000 [==========>...................] - ETA: 5:16 - loss: -1.9050 - accuracy: 0.1791 - f1_score: 0.1658"
     ]
    },
    {
     "name": "stderr",
     "output_type": "stream",
     "text": [
      "C:\\Users\\derbe\\Anaconda3\\lib\\site-packages\\sklearn\\metrics\\classification.py:1437: UndefinedMetricWarning: F-score is ill-defined and being set to 0.0 in labels with no predicted samples.\n",
      "  'precision', 'predicted', average, warn_for)\n"
     ]
    },
    {
     "name": "stdout",
     "output_type": "stream",
     "text": [
      "26600/55000 [=============>................] - ETA: 4:27 - loss: -1.9778 - accuracy: 0.1797 - f1_score: 0.1665"
     ]
    },
    {
     "name": "stderr",
     "output_type": "stream",
     "text": [
      "C:\\Users\\derbe\\Anaconda3\\lib\\site-packages\\sklearn\\metrics\\classification.py:1437: UndefinedMetricWarning: F-score is ill-defined and being set to 0.0 in labels with no predicted samples.\n",
      "  'precision', 'predicted', average, warn_for)\n"
     ]
    },
    {
     "name": "stdout",
     "output_type": "stream",
     "text": [
      "26800/55000 [=============>................] - ETA: 4:25 - loss: -1.9674 - accuracy: 0.1796 - f1_score: 0.1664"
     ]
    },
    {
     "name": "stderr",
     "output_type": "stream",
     "text": [
      "C:\\Users\\derbe\\Anaconda3\\lib\\site-packages\\sklearn\\metrics\\classification.py:1437: UndefinedMetricWarning: F-score is ill-defined and being set to 0.0 in labels with no predicted samples.\n",
      "  'precision', 'predicted', average, warn_for)\n"
     ]
    },
    {
     "name": "stdout",
     "output_type": "stream",
     "text": [
      "29000/55000 [==============>...............] - ETA: 4:04 - loss: -2.0017 - accuracy: 0.1809 - f1_score: 0.1676"
     ]
    }
   ],
   "source": [
    "from src.model_cifar10 import SimpleNet\n",
    "from src.signature import Signature\n",
    "\n",
    "MODEL_NAME = '50epochs_baseline'\n",
    "train_parameters = {\n",
    "    'steps_per_epoch' : None,\n",
    "    'epochs' : 50,\n",
    "    'validation_data' : (x_test,y_test),\n",
    "    'batch_size' : 100\n",
    "}\n",
    "\n",
    "TRAINING = True\n",
    "SAVING = True\n",
    "\n",
    "model_ratio = np.linspace(0.1, 1.0, 10)\n",
    "for ratio in model_ratio:\n",
    "    model = SimpleNet()\n",
    "    signature_length = int(model.n_weights() * ratio)\n",
    "    sig = Signature(b'Some block information', signature_length)\n",
    "\n",
    "    if TRAINING:\n",
    "        history = model.fit(x_train, y_train, **train_parameters, signature=sig)\n",
    "    if SAVING:\n",
    "        model.save_training_history(f'training_history/sig_{ratio:1f}.csv')"
   ]
  },
  {
   "cell_type": "markdown",
   "metadata": {},
   "source": [
    "# Plotting results"
   ]
  },
  {
   "cell_type": "code",
   "execution_count": null,
   "metadata": {},
   "outputs": [],
   "source": [
    "def plot_results(scatter=False, regression=False, line=False):\n",
    "    if not scatter and not regression and not line:\n",
    "        raise ValueError(\"Set [scatter|regression|line] to True\")\n",
    "    \n",
    "    fig, ax = plt.subplots(1, 2)\n",
    "    colormap = cm.cividis_r\n",
    "    model_ratio = np.linspace(0.1, 1.0, 10)\n",
    "    \n",
    "    for ratio in model_ratio:\n",
    "        data = pd.read_csv(f'training_history/sig_{ratio:.1f}.csv')\n",
    "        data.index += 1\n",
    "        color = np.array(colormap(ratio))\n",
    "        \n",
    "        if regression:\n",
    "            line_fit = exp_fit(data.index, data['val_accuracy'])\n",
    "            ax[0].plot(data.index, exp(data.index, *line_fit), label=f'{ratio:.1f}', c=color)\n",
    "            \n",
    "        if scatter:\n",
    "            ax[0].scatter(data.index, data['val_accuracy'], c=color.reshape(1, -1))\n",
    "        \n",
    "        if line:\n",
    "            ax[0].plot(data.index, data['val_accuracy'], label=f'{ratio:.1f}', c=color)\n",
    "            \n",
    "        ax[0].set(xlabel='Epochs', ylabel='Validation accuracy', title='Accuracy for % of model frozen')\n",
    "        ax[0].legend()\n",
    "        \n",
    "        if regression:\n",
    "            line_fit = exp_fit(data.index, data['val_f1_score'])\n",
    "            ax[1].plot(data.index, exp(data.index, *line_fit), label=f'{ratio:.1f}', c=colormap(ratio))\n",
    "            \n",
    "        if scatter:\n",
    "            ax[1].scatter(data.index, data['val_f1_score'], c=color.reshape(1, -1))\n",
    "            \n",
    "        if line:\n",
    "            ax[1].plot(data.index, data['val_f1_score'], label=f'{ratio:.1f}', c=colormap(ratio))\n",
    "        \n",
    "        ax[1].set(xlabel='Epochs', ylabel='Validation F1 score', title='F1 score as % of model frozen')\n",
    "        ax[1].legend()\n",
    "    \n",
    "    return ax, fig"
   ]
  },
  {
   "cell_type": "code",
   "execution_count": null,
   "metadata": {},
   "outputs": [],
   "source": [
    "_, fig = plot_results(line=True)\n",
    "\n",
    "SAVING = True\n",
    "if SAVING:\n",
    "    fig.savefig('signature_hit/during_training.svg')"
   ]
  }
 ],
 "metadata": {
  "kernelspec": {
   "display_name": "Python 3",
   "language": "python",
   "name": "python3"
  },
  "language_info": {
   "codemirror_mode": {
    "name": "ipython",
    "version": 3
   },
   "file_extension": ".py",
   "mimetype": "text/x-python",
   "name": "python",
   "nbconvert_exporter": "python",
   "pygments_lexer": "ipython3",
   "version": "3.7.3"
  }
 },
 "nbformat": 4,
 "nbformat_minor": 2
}
