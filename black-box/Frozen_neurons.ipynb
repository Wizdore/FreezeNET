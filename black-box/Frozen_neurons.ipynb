{
  "nbformat": 4,
  "nbformat_minor": 0,
  "metadata": {
    "kernelspec": {
      "name": "python3",
      "display_name": "Python 3"
    },
    "colab": {
      "name": "Frozen_neurons.ipynb",
      "provenance": [],
      "collapsed_sections": []
    },
    "accelerator": "TPU"
  },
  "cells": [
    {
      "cell_type": "code",
      "metadata": {
        "id": "yE5P7fM-fCtL",
        "colab_type": "code",
        "colab": {}
      },
      "source": [
        "from sklearn.datasets import fetch_openml\n",
        "from sklearn.preprocessing import StandardScaler\n",
        "import numpy as np\n",
        "import pandas as pd\n",
        "import matplotlib.pyplot as plt\n",
        "import seaborn as snb\n",
        "import time\n",
        "from sklearn.metrics import accuracy_score, f1_score\n",
        "import hashlib\n",
        "import struct\n",
        "import tensorflow as tf\n",
        "from tensorflow import keras\n",
        "from sklearn.model_selection import train_test_split\n",
        "tf.keras.backend.set_floatx(\n",
        "    'float64'\n",
        ")\n",
        "print(tf.__version__)"
      ],
      "execution_count": 0,
      "outputs": []
    },
    {
      "cell_type": "markdown",
      "metadata": {
        "id": "A-DCbPSbeEf1",
        "colab_type": "text"
      },
      "source": [
        "Importing the mnist dataset\n"
      ]
    },
    {
      "cell_type": "code",
      "metadata": {
        "id": "xw_ZE1y1fCtw",
        "colab_type": "code",
        "colab": {}
      },
      "source": [
        "mnist = fetch_openml('mnist_784', cache=False)"
      ],
      "execution_count": 0,
      "outputs": []
    },
    {
      "cell_type": "code",
      "metadata": {
        "id": "QnW82rKRfCuK",
        "colab_type": "code",
        "outputId": "8fe512b2-6291-4f56-ee2d-4bf1313165b4",
        "colab": {
          "base_uri": "https://localhost:8080/",
          "height": 34
        }
      },
      "source": [
        "X = np.array(mnist.data)\n",
        "y_raw = np.array(mnist.target).astype(int)\n",
        "print(X.shape, y_raw.shape)"
      ],
      "execution_count": 0,
      "outputs": [
        {
          "output_type": "stream",
          "text": [
            "(70000, 784) (70000,)\n"
          ],
          "name": "stdout"
        }
      ]
    },
    {
      "cell_type": "markdown",
      "metadata": {
        "id": "kq-BGP2Tekfz",
        "colab_type": "text"
      },
      "source": [
        "The data provided as y for mnist is standard classification format. Each number from 0 to 9 represent each class. But We are converting it to one hot encoded label."
      ]
    },
    {
      "cell_type": "code",
      "metadata": {
        "id": "7_7DIQw8fCum",
        "colab_type": "code",
        "colab": {}
      },
      "source": [
        "y = np.zeros((y_raw.size, np.unique(y_raw).size))\n",
        "for i in range(len(y_raw)):\n",
        "    y[i][y_raw[i]] = 1\n",
        "y.shape"
      ],
      "execution_count": 0,
      "outputs": []
    },
    {
      "cell_type": "markdown",
      "metadata": {
        "id": "S2j8z8bHfE_u",
        "colab_type": "text"
      },
      "source": [
        "Scaling the data using standard scaler."
      ]
    },
    {
      "cell_type": "code",
      "metadata": {
        "id": "enskRCkwfCvH",
        "colab_type": "code",
        "colab": {}
      },
      "source": [
        "scaler = StandardScaler()\n",
        "scaler.fit(X)\n",
        "normX = scaler.transform(X)"
      ],
      "execution_count": 0,
      "outputs": []
    },
    {
      "cell_type": "markdown",
      "metadata": {
        "id": "MhwjIUfgfPxG",
        "colab_type": "text"
      },
      "source": [
        "Using singular value decomposition we are reducing the dimension of input from 784 to 256. We can see that the reconstruction error is minimal."
      ]
    },
    {
      "cell_type": "code",
      "metadata": {
        "id": "ThjhHy1JfCv4",
        "colab_type": "code",
        "colab": {}
      },
      "source": [
        "def getVarianceRatio(PCA, U, X, K):\n",
        "    Xapprox = PCA @ U[:,:K].T\n",
        "    Xapprox[Xapprox < 0] = 0\n",
        "    return np.mean((X - Xapprox).T @ (X - Xapprox))/np.mean(X.T @ X)"
      ],
      "execution_count": 0,
      "outputs": []
    },
    {
      "cell_type": "code",
      "metadata": {
        "id": "CSCehu5pfCwC",
        "colab_type": "code",
        "colab": {}
      },
      "source": [
        "cov_matrix = np.cov(normX.T)\n",
        "U, S, V = np.linalg.svd(cov_matrix,  full_matrices=False)\n",
        "K = 256\n",
        "PCA = X @ U[:,:K]\n",
        "getVarianceRatio(PCA, U, X, K)"
      ],
      "execution_count": 0,
      "outputs": []
    },
    {
      "cell_type": "code",
      "metadata": {
        "id": "Rj_R9-kufCwL",
        "colab_type": "code",
        "colab": {}
      },
      "source": [
        "PCA.shape"
      ],
      "execution_count": 0,
      "outputs": []
    },
    {
      "cell_type": "markdown",
      "metadata": {
        "id": "DnW73SPOfpNf",
        "colab_type": "text"
      },
      "source": [
        "Splitting the data into train and test with stratification based on y so the classes are evenly split."
      ]
    },
    {
      "cell_type": "code",
      "metadata": {
        "id": "UYi3vMVCfCxG",
        "colab_type": "code",
        "colab": {}
      },
      "source": [
        "x_train, x_test, y_train, y_test = train_test_split(PCA, y, test_size=0.25, random_state=1, stratify=y)\n",
        "x_train.shape, x_test.shape, y_train.shape, y_test.shape"
      ],
      "execution_count": 0,
      "outputs": []
    },
    {
      "cell_type": "markdown",
      "metadata": {
        "id": "RayM9fwhf57D",
        "colab_type": "text"
      },
      "source": [
        "In signcoder is used to create the signature that would be taught to the model during training process.\n",
        "\n",
        "\n",
        "*   We take a string S as our watermark of arbitraty length.\n",
        "*   We also take a size input that stands for the size of our sign.\n",
        "*   Hash S using blake2b hashing algorithm, it returns a 64 byte digest.\n",
        "*   Split the digest into 8 parts. So each of them are 8 bytes.\n",
        "*   Each of these 8 bytes are turned into 64 bit unsigned integers and stored in an array.\n",
        "*   Then the array is normalized and turned into floats.\n",
        "*   Then the array is padded so it matches the desired size of signature.\n",
        "\n",
        "Padding is necessary because although our signature is 64 bytes, Input of the model can be of any size.\n",
        "\n",
        "The sign_error function returns the mean absolute difference between two signature code."
      ]
    },
    {
      "cell_type": "code",
      "metadata": {
        "id": "_B0ibX7NfCwW",
        "colab_type": "code",
        "colab": {}
      },
      "source": [
        "TRAIN_WITH_WATERMARK = True\n",
        "\n",
        "class signcoder(object):\n",
        "    \n",
        "    @staticmethod\n",
        "    def get_sign(sign, length):\n",
        "      sign = hashlib.blake2b(str(sign).encode('utf-8'), digest_size=64).digest()\n",
        "      floats = np.zeros(int(len(sign)/8), dtype=np.uint64)\n",
        "      for i in range(len(floats)):\n",
        "          floats[i] = struct.unpack('<I', sign[(i+1)*4-4:(i+1)*4])[0]\n",
        "      normalized = (floats - np.mean(floats))/np.std(floats)        \n",
        "      return np.pad(normalized, (length//2)-4, mode='wrap')\n",
        "    \n",
        "    @staticmethod\n",
        "    def sign_error(watermark, sign):\n",
        "      padding = sign.shape[1]\n",
        "      exact_sign = signcoder.get_sign(watermark, padding)\n",
        "      return np.round(np.mean(np.abs(exact_sign-sign)), 8)"
      ],
      "execution_count": 0,
      "outputs": []
    },
    {
      "cell_type": "markdown",
      "metadata": {
        "id": "1GbP3GHkj5Ai",
        "colab_type": "text"
      },
      "source": [
        "Generating 5000 signatures with \"www.uis.no\" as watermark and adding to the training dataset. The data is concatenated in x_train and y_train both. For the x_train the length of the signature is 256 elements long. And for y_train its 10 elements. So we generate the signature accordingly. "
      ]
    },
    {
      "cell_type": "code",
      "metadata": {
        "id": "Qx0euXRlfCwj",
        "colab_type": "code",
        "outputId": "6f638008-d03a-4dae-8429-b22651cda481",
        "colab": {
          "base_uri": "https://localhost:8080/",
          "height": 34
        }
      },
      "source": [
        "if TRAIN_WITH_WATERMARK:\n",
        "  sign = signcoder.get_sign(\"www.uis.no\", 256)\n",
        "  signdata = np.ones((5000, 256))\n",
        "  for i in range(signdata.shape[0]):\n",
        "      signdata[i] = sign\n",
        "  print(signdata.shape)"
      ],
      "execution_count": 0,
      "outputs": [
        {
          "output_type": "stream",
          "text": [
            "(5000, 256)\n"
          ],
          "name": "stdout"
        }
      ]
    },
    {
      "cell_type": "code",
      "metadata": {
        "id": "uzkrYZ44fCwt",
        "colab_type": "code",
        "outputId": "27966967-4f1f-4bb4-aa4e-c9defa5a10c2",
        "colab": {
          "base_uri": "https://localhost:8080/",
          "height": 34
        }
      },
      "source": [
        "if TRAIN_WITH_WATERMARK:\n",
        "  x_train = np.concatenate((x_train, signdata), axis=0)\n",
        "  print(x_train.shape)"
      ],
      "execution_count": 0,
      "outputs": [
        {
          "output_type": "stream",
          "text": [
            "(62500, 256)\n"
          ],
          "name": "stdout"
        }
      ]
    },
    {
      "cell_type": "code",
      "metadata": {
        "id": "pUwUj2-WfCw2",
        "colab_type": "code",
        "outputId": "3d779e7d-aff2-4c4d-ad2c-f674d8e48913",
        "colab": {
          "base_uri": "https://localhost:8080/",
          "height": 34
        }
      },
      "source": [
        "if TRAIN_WITH_WATERMARK:\n",
        "  signdata = np.ones((5000, 10))\n",
        "  sign = signcoder.get_sign(\"www.uis.no\", 10)\n",
        "  for i in range(signdata.shape[0]):\n",
        "      signdata[i] = sign\n",
        "  print(signdata.shape)"
      ],
      "execution_count": 0,
      "outputs": [
        {
          "output_type": "stream",
          "text": [
            "(5000, 10)\n"
          ],
          "name": "stdout"
        }
      ]
    },
    {
      "cell_type": "code",
      "metadata": {
        "id": "BLqkYDVPfCw_",
        "colab_type": "code",
        "outputId": "579c5e5a-1d05-4832-8973-31eddeb0c23e",
        "colab": {
          "base_uri": "https://localhost:8080/",
          "height": 34
        }
      },
      "source": [
        "if TRAIN_WITH_WATERMARK:\n",
        "  y_train = np.concatenate((y_train, signdata), axis=0)\n",
        "  print(y_train.shape)"
      ],
      "execution_count": 0,
      "outputs": [
        {
          "output_type": "stream",
          "text": [
            "(62500, 10)\n"
          ],
          "name": "stdout"
        }
      ]
    },
    {
      "cell_type": "markdown",
      "metadata": {
        "id": "ubzrQf6sk5nN",
        "colab_type": "text"
      },
      "source": [
        "We build and compile the model. The model is built as a regression model because we want to use all the values in the output layer when the special sign values are fed through the input layer. We can use this model to solve our original classification problem but for that we need to check in each output layer to see which one is closest to 1."
      ]
    },
    {
      "cell_type": "code",
      "metadata": {
        "id": "eOJJvLYJfCxQ",
        "colab_type": "code",
        "outputId": "42998564-e33b-439d-a8a9-735e5fb04b6b",
        "colab": {
          "base_uri": "https://localhost:8080/",
          "height": 319
        }
      },
      "source": [
        "model = keras.Sequential([\n",
        "    keras.layers.Dense(x_train.shape[1], activation='relu', input_dim=x_train.shape[1]),\n",
        "    keras.layers.Dense(128, activation='relu'),\n",
        "    keras.layers.Dense(128, activation='relu'),\n",
        "    keras.layers.Dense(128, activation='relu'),\n",
        "    keras.layers.Dense(10, activation='linear')\n",
        "])\n",
        "\n",
        "model.compile(optimizer='adam', loss='mse', metrics=[tf.keras.metrics.MeanAbsoluteError()])\n",
        "model.summary()"
      ],
      "execution_count": 0,
      "outputs": [
        {
          "output_type": "stream",
          "text": [
            "Model: \"sequential_28\"\n",
            "_________________________________________________________________\n",
            "Layer (type)                 Output Shape              Param #   \n",
            "=================================================================\n",
            "dense_140 (Dense)            (None, 256)               65792     \n",
            "_________________________________________________________________\n",
            "dense_141 (Dense)            (None, 128)               32896     \n",
            "_________________________________________________________________\n",
            "dense_142 (Dense)            (None, 128)               16512     \n",
            "_________________________________________________________________\n",
            "dense_143 (Dense)            (None, 128)               16512     \n",
            "_________________________________________________________________\n",
            "dense_144 (Dense)            (None, 10)                1290      \n",
            "=================================================================\n",
            "Total params: 133,002\n",
            "Trainable params: 133,002\n",
            "Non-trainable params: 0\n",
            "_________________________________________________________________\n"
          ],
          "name": "stdout"
        }
      ]
    },
    {
      "cell_type": "markdown",
      "metadata": {
        "id": "tHitMg6kmMRf",
        "colab_type": "text"
      },
      "source": [
        "We train and record the accuracy, f1 of the model based on the test data. Notice we have not tampered with the test data. So the accuracy returned by the model is representative of how well the model is trained on our classification problem."
      ]
    },
    {
      "cell_type": "code",
      "metadata": {
        "id": "NSpECLePfCxm",
        "colab_type": "code",
        "outputId": "619cc4a8-11d4-454b-941e-d293497706e9",
        "colab": {
          "base_uri": "https://localhost:8080/",
          "height": 269
        }
      },
      "source": [
        "EPOCHS = 15\n",
        "\n",
        "model_accuracy = np.zeros((EPOCHS))\n",
        "model_f1 = np.zeros((EPOCHS))\n",
        "sign_error = np.zeros((EPOCHS))\n",
        "\n",
        "for i in range(EPOCHS):\n",
        "  history = model.fit(x_train, y_train, batch_size=52, epochs=1)\n",
        "  y_pred = model.predict(x_test)\n",
        "  y_pred = np.apply_along_axis(np.argmax, 1, y_pred)\n",
        "  y_true = np.apply_along_axis(np.argmax, 1, y_test)\n",
        "  model_accuracy[i] = accuracy_score(y_true, y_pred)\n",
        "  model_f1[i] = f1_score(y_true, y_pred, average='macro')\n",
        "  sign = model.predict(signcoder.get_sign(\"www.uis.no\", 256).reshape(1,-1))\n",
        "  sign_error[i] = signcoder.sign_error(watermark=\"www.uis.no\", sign=sign)\n",
        "\n",
        "if TRAIN_WITH_WATERMARK:\n",
        "  np.savetxt('data/sign_error.csv', sign_error, delimiter=',')"
      ],
      "execution_count": 0,
      "outputs": [
        {
          "output_type": "stream",
          "text": [
            "1202/1202 [==============================] - 5s 4ms/step - loss: 9.0101 - mean_absolute_error: 0.9144\n",
            "1202/1202 [==============================] - 5s 4ms/step - loss: 0.0745 - mean_absolute_error: 0.1636\n",
            "1202/1202 [==============================] - 5s 4ms/step - loss: 0.0629 - mean_absolute_error: 0.1571\n",
            "1202/1202 [==============================] - 5s 4ms/step - loss: 0.0539 - mean_absolute_error: 0.1480\n",
            "1202/1202 [==============================] - 5s 4ms/step - loss: 0.0461 - mean_absolute_error: 0.1367\n",
            "1202/1202 [==============================] - 5s 4ms/step - loss: 0.0365 - mean_absolute_error: 0.1207\n",
            "1202/1202 [==============================] - 5s 5ms/step - loss: 0.0255 - mean_absolute_error: 0.0967\n",
            "1202/1202 [==============================] - 5s 4ms/step - loss: 0.0192 - mean_absolute_error: 0.0819\n",
            "1202/1202 [==============================] - 5s 5ms/step - loss: 0.0147 - mean_absolute_error: 0.0703\n",
            "1202/1202 [==============================] - 5s 4ms/step - loss: 0.0112 - mean_absolute_error: 0.0587\n",
            "1202/1202 [==============================] - 5s 5ms/step - loss: 0.0088 - mean_absolute_error: 0.0510\n",
            "1202/1202 [==============================] - 5s 5ms/step - loss: 0.0072 - mean_absolute_error: 0.0444\n",
            "1202/1202 [==============================] - 5s 5ms/step - loss: 0.0062 - mean_absolute_error: 0.0394\n",
            "1202/1202 [==============================] - 5s 5ms/step - loss: 0.0051 - mean_absolute_error: 0.0340\n",
            "1202/1202 [==============================] - 6s 5ms/step - loss: 0.0052 - mean_absolute_error: 0.0332\n"
          ],
          "name": "stdout"
        }
      ]
    },
    {
      "cell_type": "code",
      "metadata": {
        "id": "hISunmMmfCxu",
        "colab_type": "code",
        "outputId": "20910a08-5c40-436e-90c9-6c85a875fb15",
        "colab": {
          "base_uri": "https://localhost:8080/",
          "height": 34
        }
      },
      "source": [
        "test_loss, test_accuracy = model.evaluate(x_test, y_test)"
      ],
      "execution_count": 0,
      "outputs": [
        {
          "output_type": "stream",
          "text": [
            "547/547 [==============================] - 1s 2ms/step - loss: 0.0078 - mean_absolute_error: 0.0442\n"
          ],
          "name": "stdout"
        }
      ]
    },
    {
      "cell_type": "code",
      "metadata": {
        "id": "oefk1zJKqkeO",
        "colab_type": "code",
        "outputId": "0f607e42-0d93-461a-c7f8-013978991c47",
        "colab": {
          "base_uri": "https://localhost:8080/",
          "height": 34
        }
      },
      "source": [
        "if TRAIN_WITH_WATERMARK:\n",
        "  np.savetxt('data/f1_with_sign.csv', model_f1, delimiter=',')\n",
        "  np.savetxt('data/acc_with_sign.csv', model_accuracy, delimiter=',')\n",
        "  print('Saved metrics of signed model')\n",
        "else:\n",
        "  np.savetxt('data/f1_without_sign.csv', model_f1, delimiter=',')\n",
        "  np.savetxt('data/acc_without_sign.csv', model_accuracy, delimiter=',')\n",
        "  print('Saved metrics of un-signed model')"
      ],
      "execution_count": 0,
      "outputs": [
        {
          "output_type": "stream",
          "text": [
            "Saved metrics of signed model\n"
          ],
          "name": "stdout"
        }
      ]
    },
    {
      "cell_type": "markdown",
      "metadata": {
        "id": "uF69jhPGmxod",
        "colab_type": "text"
      },
      "source": [
        "By training the model once without adding the signature data and once with the signature data we can see and compare the progress of the training. From the graph we can see the network almost trains identically with or without the signature."
      ]
    },
    {
      "cell_type": "code",
      "metadata": {
        "id": "qXto4jupV_kB",
        "colab_type": "code",
        "outputId": "5c3aa3fc-bb3d-41ac-aa32-9618ad8a7d52",
        "colab": {
          "base_uri": "https://localhost:8080/",
          "height": 498
        }
      },
      "source": [
        "from pylab import rcParams\n",
        "plt.style.use('seaborn')\n",
        "rcParams['figure.figsize'] = 16, 8\n",
        "fig, ax = plt.subplots(ncols=2, nrows=1)\n",
        "ax[0].grid(True)\n",
        "ax[0].set_ylabel('Accuracy')\n",
        "ax[0].set_xlabel('Epochs')\n",
        "ax[0].plot(np.loadtxt('data/acc_with_sign.csv', delimiter=','), label='With Sign')\n",
        "ax[0].plot(np.loadtxt('data/acc_without_sign.csv', delimiter=','), label='W/O Sign')\n",
        "ax[0].legend()\n",
        "\n",
        "\n",
        "ax[1].grid(True)\n",
        "ax[1].set_ylabel('F1 Score')\n",
        "ax[1].set_xlabel('Epochs')\n",
        "ax[1].plot(np.loadtxt('data/f1_with_sign.csv', delimiter=','), label='With Sign')\n",
        "ax[1].plot(np.loadtxt('data/f1_without_sign.csv', delimiter=','), label='W/O Sign')\n",
        "ax[0].legend()\n",
        "plt.show()"
      ],
      "execution_count": 0,
      "outputs": [
        {
          "output_type": "display_data",
          "data": {
            "image/png": "[encoded data removed]",
            "text/plain": [
              "<Figure size 1152x576 with 2 Axes>"
            ]
          },
          "metadata": {
            "tags": []
          }
        }
      ]
    },
    {
      "cell_type": "markdown",
      "metadata": {
        "id": "1sAcUwpnnuUa",
        "colab_type": "text"
      },
      "source": [
        "Here we can test how well the signature is learned by the model. We trained it so if the sign code of \"www.uis.no\" is fed to the model the output should be the same sign code with 246 of the paddings removed. So we can check how well did it retain the sign code. We can see the sign_error is much lower when the original sign code is provided compared to other signs where error is much higher."
      ]
    },
    {
      "cell_type": "code",
      "metadata": {
        "id": "u0lRK-cxV_vR",
        "colab_type": "code",
        "outputId": "ae27ca11-2603-480c-81da-053f566eaed8",
        "colab": {
          "base_uri": "https://localhost:8080/",
          "height": 84
        }
      },
      "source": [
        "# Actual watermark the model was trained with\n",
        "watermark = \"www.uis.no\"\n",
        "sign = model.predict(signcoder.get_sign(watermark, 256).reshape(1,-1))\n",
        "print(signcoder.sign_error(watermark=watermark, sign=sign))\n",
        "\n",
        "# false watermarks\n",
        "watermark = \"ww.uis.no\"\n",
        "sign = model.predict(signcoder.get_sign(watermark, 256).reshape(1,-1))\n",
        "print(signcoder.sign_error(watermark=watermark, sign=sign))\n",
        "\n",
        "watermark = \"www.vis.no\"\n",
        "sign = model.predict(signcoder.get_sign(watermark, 256).reshape(1,-1))\n",
        "print(signcoder.sign_error(watermark=watermark, sign=sign))\n",
        "\n",
        "watermark = \"Anything Else\"\n",
        "sign = model.predict(signcoder.get_sign(watermark, 256).reshape(1,-1))\n",
        "print(signcoder.sign_error(watermark=watermark, sign=sign))"
      ],
      "execution_count": 0,
      "outputs": [
        {
          "output_type": "stream",
          "text": [
            "0.00605984\n",
            "0.84028933\n",
            "0.70997218\n",
            "0.70672327\n"
          ],
          "name": "stdout"
        }
      ]
    },
    {
      "cell_type": "markdown",
      "metadata": {
        "id": "nS63vg94owg2",
        "colab_type": "text"
      },
      "source": [
        "This 8 floating point numbers are provided from the model."
      ]
    },
    {
      "cell_type": "code",
      "metadata": {
        "id": "y3CQcrZFV_sZ",
        "colab_type": "code",
        "outputId": "2b43cafd-664b-49c2-a001-d7f664dabb42",
        "colab": {
          "base_uri": "https://localhost:8080/",
          "height": 50
        }
      },
      "source": [
        "model.predict(signcoder.get_sign(\"www.uis.no\", 256).reshape(1,-1))"
      ],
      "execution_count": 0,
      "outputs": [
        {
          "output_type": "execute_result",
          "data": {
            "text/plain": [
              "array([[ 0.89051369,  0.71766516, -1.43553507,  0.86610721, -1.42067507,\n",
              "         0.49341503,  0.8441094 , -0.94521869,  0.90289212,  0.70768427]])"
            ]
          },
          "metadata": {
            "tags": []
          },
          "execution_count": 377
        }
      ]
    },
    {
      "cell_type": "markdown",
      "metadata": {
        "id": "HqGQ2zCyo9OC",
        "colab_type": "text"
      },
      "source": [
        "This is the exact output."
      ]
    },
    {
      "cell_type": "code",
      "metadata": {
        "id": "JyuySLu_V_pj",
        "colab_type": "code",
        "outputId": "4c5ffcf6-f2bf-49ce-b15d-4d0159b0cbe8",
        "colab": {
          "base_uri": "https://localhost:8080/",
          "height": 50
        }
      },
      "source": [
        "signcoder.get_sign(\"www.uis.no\", 10)"
      ],
      "execution_count": 0,
      "outputs": [
        {
          "output_type": "execute_result",
          "data": {
            "text/plain": [
              "array([ 0.88989094,  0.71135253, -1.44874346,  0.86011465, -1.41827776,\n",
              "        0.50427744,  0.84309043, -0.94170477,  0.88989094,  0.71135253])"
            ]
          },
          "metadata": {
            "tags": []
          },
          "execution_count": 378
        }
      ]
    },
    {
      "cell_type": "markdown",
      "metadata": {
        "id": "Z7wUgpG2pIn-",
        "colab_type": "text"
      },
      "source": [
        "The accuracy of the model to classify the test data."
      ]
    },
    {
      "cell_type": "code",
      "metadata": {
        "id": "98iq7zcffCx2",
        "colab_type": "code",
        "outputId": "18e5af95-6909-4422-895b-698d1174cbb0",
        "colab": {
          "base_uri": "https://localhost:8080/",
          "height": 34
        }
      },
      "source": [
        "y_pred = model.predict(x_test)\n",
        "y_pred = np.apply_along_axis(np.argmax, 1, y_pred)\n",
        "y_true = np.apply_along_axis(np.argmax, 1, y_test)\n",
        "accuracy_score(y_true, y_pred)"
      ],
      "execution_count": 0,
      "outputs": [
        {
          "output_type": "execute_result",
          "data": {
            "text/plain": [
              "0.9653714285714285"
            ]
          },
          "metadata": {
            "tags": []
          },
          "execution_count": 379
        }
      ]
    },
    {
      "cell_type": "markdown",
      "metadata": {
        "id": "tX2q7umCNhdn",
        "colab_type": "text"
      },
      "source": [
        "Now If we re train the model with a different watermark and check if it still retains the old watermark."
      ]
    },
    {
      "cell_type": "code",
      "metadata": {
        "id": "jVYXkkoyNgXN",
        "colab_type": "code",
        "colab": {}
      },
      "source": [
        "new_sign = signcoder.get_sign(\"new watermark\", 256)\n",
        "new_x_train = np.ones((5000, 256))\n",
        "for i in range(signdata.shape[0]):\n",
        "    new_x_train[i] = new_sign\n",
        "\n",
        "new_sign = signcoder.get_sign(\"new watermark\", 10)\n",
        "new_y_train = np.ones((5000, 10))\n",
        "for i in range(signdata.shape[0]):\n",
        "    new_y_train[i] = new_sign"
      ],
      "execution_count": 0,
      "outputs": []
    },
    {
      "cell_type": "code",
      "metadata": {
        "id": "-KGmTlxEfCzE",
        "colab_type": "code",
        "outputId": "e7cda0e2-b772-485b-9e77-befec9f76ef2",
        "colab": {
          "base_uri": "https://localhost:8080/",
          "height": 101
        }
      },
      "source": [
        "EPOCHS = 5\n",
        "\n",
        "model_accuracy = np.zeros((EPOCHS))\n",
        "model_f1 = np.zeros((EPOCHS))\n",
        "og_sign_error = np.zeros((EPOCHS))\n",
        "new_sign_error = np.zeros((EPOCHS))\n",
        "\n",
        "for i in range(EPOCHS):\n",
        "  y_pred = model.predict(x_test)\n",
        "  y_pred = np.apply_along_axis(np.argmax, 1, y_pred)\n",
        "  y_true = np.apply_along_axis(np.argmax, 1, y_test)\n",
        "  model_accuracy[i] = accuracy_score(y_true, y_pred)\n",
        "\n",
        "  sign = model.predict(signcoder.get_sign(\"www.uis.no\", 256).reshape(1,-1))\n",
        "  og_sign_error[i] = signcoder.sign_error(watermark=\"www.uis.no\", sign=sign)\n",
        "\n",
        "  sign = model.predict(signcoder.get_sign(\"new watermark\", 256).reshape(1,-1))\n",
        "  new_sign_error[i] = signcoder.sign_error(watermark=\"new watermark\", sign=sign)\n",
        "  \n",
        "  history = model.fit(new_x_train, new_y_train, batch_size=52, epochs=1)"
      ],
      "execution_count": 0,
      "outputs": [
        {
          "output_type": "stream",
          "text": [
            "97/97 [==============================] - 0s 5ms/step - loss: 0.0789 - mean_absolute_error: 0.1124\n",
            "97/97 [==============================] - 0s 4ms/step - loss: 4.2216e-07 - mean_absolute_error: 3.2366e-04\n",
            "97/97 [==============================] - 0s 4ms/step - loss: 1.6636e-11 - mean_absolute_error: 2.0656e-06\n",
            "97/97 [==============================] - 0s 4ms/step - loss: 5.5454e-16 - mean_absolute_error: 1.1730e-08\n",
            "97/97 [==============================] - 0s 4ms/step - loss: 2.2269e-20 - mean_absolute_error: 7.6536e-11\n"
          ],
          "name": "stdout"
        }
      ]
    },
    {
      "cell_type": "markdown",
      "metadata": {
        "id": "sTyZV_j3pnmF",
        "colab_type": "text"
      },
      "source": [
        "After retraining with a different signature we can see the old signature is not retained very well. But we also see that the accuracy of the model has dropped significantly. At this point this model is no longer useful fo the original task."
      ]
    },
    {
      "cell_type": "code",
      "metadata": {
        "id": "Qd8_6Ia7fCzM",
        "colab_type": "code",
        "outputId": "1c84a158-4d42-4ac4-cc59-fd9c2aa110e5",
        "colab": {
          "base_uri": "https://localhost:8080/",
          "height": 731
        }
      },
      "source": [
        "rcParams['figure.figsize'] = 12, 12\n",
        "fig, ax = plt.subplots(ncols=1, nrows=1)\n",
        "ax.grid(True)\n",
        "ax.set_ylabel('Accuracy')\n",
        "ax.set_xlabel('Epochs')\n",
        "ax.yaxis.set_ticks(np.arange(0, 1, 0.05))\n",
        "ax.xaxis.set_ticks(np.arange(0, 5, 1))\n",
        "ax.plot(model_accuracy, label='Accuracy')\n",
        "ax.plot(og_sign_error, label='original sign error')\n",
        "ax.plot(new_sign_error, label='new sign error')\n",
        "ax.legend()"
      ],
      "execution_count": 0,
      "outputs": [
        {
          "output_type": "execute_result",
          "data": {
            "text/plain": [
              "<matplotlib.legend.Legend at 0x7ffb2ab995c0>"
            ]
          },
          "metadata": {
            "tags": []
          },
          "execution_count": 389
        },
        {
          "output_type": "display_data",
          "data": {
            "image/png": "[encoded data removed]",
            "text/plain": [
              "<Figure size 864x864 with 1 Axes>"
            ]
          },
          "metadata": {
            "tags": []
          }
        }
      ]
    },
    {
      "cell_type": "markdown",
      "metadata": {
        "id": "8VU2-FUuqCyg",
        "colab_type": "text"
      },
      "source": [
        "The accuracy has dropped from over 96% down below 20%. So retraining a model with a different signature is not a viable way to remove the original signature."
      ]
    },
    {
      "cell_type": "code",
      "metadata": {
        "id": "ci-4_3-MfCzU",
        "colab_type": "code",
        "outputId": "8eeef3ac-1fbb-4a61-c9a3-2957245fef90",
        "colab": {
          "base_uri": "https://localhost:8080/",
          "height": 34
        }
      },
      "source": [
        "y_pred = model.predict(x_test)\n",
        "y_pred = np.apply_along_axis(np.argmax, 1, y_pred)\n",
        "y_true = np.apply_along_axis(np.argmax, 1, y_test)\n",
        "accuracy_score(y_true, y_pred)"
      ],
      "execution_count": 0,
      "outputs": [
        {
          "output_type": "execute_result",
          "data": {
            "text/plain": [
              "0.18325714285714287"
            ]
          },
          "metadata": {
            "tags": []
          },
          "execution_count": 383
        }
      ]
    },
    {
      "cell_type": "markdown",
      "metadata": {
        "id": "nEEPF7sFqmNX",
        "colab_type": "text"
      },
      "source": [
        "A sample comparison of error between old signature the new signature and some random signature."
      ]
    },
    {
      "cell_type": "code",
      "metadata": {
        "id": "jGempotKfCzc",
        "colab_type": "code",
        "outputId": "868faf61-4a22-41fb-b711-f4eef8456e29",
        "colab": {
          "base_uri": "https://localhost:8080/",
          "height": 67
        }
      },
      "source": [
        "watermark = \"www.uis.no\"\n",
        "sign = model.predict(signcoder.get_sign(watermark, 256).reshape(1,-1))\n",
        "print(signcoder.sign_error(watermark=watermark, sign=sign))\n",
        "\n",
        "watermark = \"new watermark\"\n",
        "sign = model.predict(signcoder.get_sign(watermark, 256).reshape(1,-1))\n",
        "print(signcoder.sign_error(watermark=watermark, sign=sign))\n",
        "\n",
        "watermark = \"www.uit.no\"\n",
        "sign = model.predict(signcoder.get_sign(watermark, 256).reshape(1,-1))\n",
        "print(signcoder.sign_error(watermark=watermark, sign=sign))"
      ],
      "execution_count": 0,
      "outputs": [
        {
          "output_type": "stream",
          "text": [
            "0.61934247\n",
            "0.0\n",
            "0.92292551\n"
          ],
          "name": "stdout"
        }
      ]
    },
    {
      "cell_type": "code",
      "metadata": {
        "id": "T6AsEuEFfCzm",
        "colab_type": "code",
        "colab": {}
      },
      "source": [
        ""
      ],
      "execution_count": 0,
      "outputs": []
    },
    {
      "cell_type": "code",
      "metadata": {
        "id": "aeW42_D4fCzu",
        "colab_type": "code",
        "colab": {}
      },
      "source": [
        ""
      ],
      "execution_count": 0,
      "outputs": []
    },
    {
      "cell_type": "code",
      "metadata": {
        "id": "MbXVpyv1fCz3",
        "colab_type": "code",
        "colab": {}
      },
      "source": [
        ""
      ],
      "execution_count": 0,
      "outputs": []
    },
    {
      "cell_type": "code",
      "metadata": {
        "id": "YU_tbEGgfC0B",
        "colab_type": "code",
        "colab": {}
      },
      "source": [
        ""
      ],
      "execution_count": 0,
      "outputs": []
    }
  ]
}